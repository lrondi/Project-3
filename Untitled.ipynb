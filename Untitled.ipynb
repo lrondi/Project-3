{
 "cells": [
  {
   "cell_type": "code",
   "execution_count": 1,
   "metadata": {},
   "outputs": [
    {
     "name": "stderr",
     "output_type": "stream",
     "text": [
      "Using TensorFlow backend.\n"
     ]
    }
   ],
   "source": [
    "from keras.layers import Input, Dense\n",
    "from keras.models import Model\n",
    "from keras.datasets import mnist\n",
    "import numpy as np\n",
    "import matplotlib.pyplot as plt\n"
   ]
  },
  {
   "cell_type": "code",
   "execution_count": 12,
   "metadata": {},
   "outputs": [],
   "source": [
    "# this is the size of our encoded representations\n",
    "encoding_dim = 64  # 32 floats -> compression of factor 24.5, assuming the input is 784 floats\n",
    "\n",
    "# this is our input placeholder\n",
    "input_img = Input(shape=(784,))\n",
    "\n",
    "# \"encoded\" is the encoded representation of the input\n",
    "encoded = Dense(encoding_dim, activation='relu')(input_img)\n",
    "\n",
    "# \"decoded\" is the lossy reconstruction of the input\n",
    "decoded = Dense(784, activation='sigmoid')(encoded)\n",
    "\n",
    "# this model maps an input to its reconstruction\n",
    "autoencoder = Model(input_img, decoded)"
   ]
  },
  {
   "cell_type": "code",
   "execution_count": 13,
   "metadata": {},
   "outputs": [],
   "source": [
    "# this model maps an input to its encoded representation\n",
    "encoder = Model(input_img, encoded)"
   ]
  },
  {
   "cell_type": "code",
   "execution_count": 14,
   "metadata": {},
   "outputs": [],
   "source": [
    "# create a placeholder for an encoded (32-dimensional) input\n",
    "encoded_input = Input(shape=(encoding_dim,))\n",
    "\n",
    "# retrieve the last layer of the autoencoder model\n",
    "decoder_layer = autoencoder.layers[-1]\n",
    "\n",
    "# create the decoder model\n",
    "decoder = Model(encoded_input, decoder_layer(encoded_input))"
   ]
  },
  {
   "cell_type": "code",
   "execution_count": 15,
   "metadata": {},
   "outputs": [],
   "source": [
    "autoencoder.compile(optimizer='adadelta', loss='binary_crossentropy')"
   ]
  },
  {
   "cell_type": "code",
   "execution_count": 16,
   "metadata": {},
   "outputs": [],
   "source": [
    "(x_train, _), (x_test, _) = mnist.load_data()"
   ]
  },
  {
   "cell_type": "code",
   "execution_count": 17,
   "metadata": {},
   "outputs": [
    {
     "name": "stdout",
     "output_type": "stream",
     "text": [
      "(60000, 784)\n",
      "(10000, 784)\n"
     ]
    }
   ],
   "source": [
    "x_train = x_train.astype('float32') / 255.\n",
    "x_test = x_test.astype('float32') / 255.\n",
    "x_train = x_train.reshape((len(x_train), np.prod(x_train.shape[1:])))\n",
    "x_test = x_test.reshape((len(x_test), np.prod(x_test.shape[1:])))\n",
    "print (x_train.shape)\n",
    "print (x_test.shape)"
   ]
  },
  {
   "cell_type": "code",
   "execution_count": 18,
   "metadata": {},
   "outputs": [
    {
     "name": "stdout",
     "output_type": "stream",
     "text": [
      "Train on 60000 samples, validate on 10000 samples\n",
      "Epoch 1/50\n",
      "60000/60000 [==============================] - 5s 87us/step - loss: 0.3415 - val_loss: 0.2687\n",
      "Epoch 2/50\n",
      "60000/60000 [==============================] - 4s 65us/step - loss: 0.2596 - val_loss: 0.2469\n",
      "Epoch 3/50\n",
      "60000/60000 [==============================] - 4s 63us/step - loss: 0.2357 - val_loss: 0.2224\n",
      "Epoch 4/50\n",
      "60000/60000 [==============================] - 4s 66us/step - loss: 0.2143 - val_loss: 0.2040\n",
      "Epoch 5/50\n",
      "60000/60000 [==============================] - 4s 67us/step - loss: 0.1990 - val_loss: 0.1912 - loss: 0. - ETA: 0s \n",
      "Epoch 6/50\n",
      "60000/60000 [==============================] - 4s 63us/step - loss: 0.1881 - val_loss: 0.1820\n",
      "Epoch 7/50\n",
      "60000/60000 [==============================] - 4s 66us/step - loss: 0.1795 - val_loss: 0.1743\n",
      "Epoch 8/50\n",
      "60000/60000 [==============================] - 4s 70us/step - loss: 0.1724 - val_loss: 0.1677\n",
      "Epoch 9/50\n",
      "60000/60000 [==============================] - 4s 63us/step - loss: 0.1663 - val_loss: 0.1620\n",
      "Epoch 10/50\n",
      "60000/60000 [==============================] - 4s 66us/step - loss: 0.1608 - val_loss: 0.1569\n",
      "Epoch 11/50\n",
      "60000/60000 [==============================] - 4s 68us/step - loss: 0.1558 - val_loss: 0.1520\n",
      "Epoch 12/50\n",
      "60000/60000 [==============================] - 4s 61us/step - loss: 0.1512 - val_loss: 0.1475\n",
      "Epoch 13/50\n",
      "60000/60000 [==============================] - 4s 68us/step - loss: 0.1470 - val_loss: 0.1437\n",
      "Epoch 14/50\n",
      "60000/60000 [==============================] - 4s 70us/step - loss: 0.1432 - val_loss: 0.1399\n",
      "Epoch 15/50\n",
      "60000/60000 [==============================] - 5s 78us/step - loss: 0.1398 - val_loss: 0.1367\n",
      "Epoch 16/50\n",
      "60000/60000 [==============================] - 4s 63us/step - loss: 0.1367 - val_loss: 0.1338\n",
      "Epoch 17/50\n",
      "60000/60000 [==============================] - 4s 69us/step - loss: 0.1338 - val_loss: 0.13083\n",
      "Epoch 18/50\n",
      "60000/60000 [==============================] - 4s 70us/step - loss: 0.1311 - val_loss: 0.1283\n",
      "Epoch 19/50\n",
      "60000/60000 [==============================] - 4s 64us/step - loss: 0.1286 - val_loss: 0.1258\n",
      "Epoch 20/50\n",
      "60000/60000 [==============================] - 4s 70us/step - loss: 0.1262 - val_loss: 0.1236\n",
      "Epoch 21/50\n",
      "60000/60000 [==============================] - 4s 71us/step - loss: 0.1240 - val_loss: 0.1213\n",
      "Epoch 22/50\n",
      "60000/60000 [==============================] - 4s 71us/step - loss: 0.1218 - val_loss: 0.1192\n",
      "Epoch 23/50\n",
      "60000/60000 [==============================] - 4s 69us/step - loss: 0.1198 - val_loss: 0.1172\n",
      "Epoch 24/50\n",
      "60000/60000 [==============================] - 4s 73us/step - loss: 0.1178 - val_loss: 0.1153\n",
      "Epoch 25/50\n",
      "60000/60000 [==============================] - 5s 75us/step - loss: 0.1160 - val_loss: 0.1135\n",
      "Epoch 26/50\n",
      "60000/60000 [==============================] - 5s 76us/step - loss: 0.1143 - val_loss: 0.1119\n",
      "Epoch 27/50\n",
      "60000/60000 [==============================] - 4s 75us/step - loss: 0.1127 - val_loss: 0.1103\n",
      "Epoch 28/50\n",
      "60000/60000 [==============================] - 4s 66us/step - loss: 0.1111 - val_loss: 0.1088\n",
      "Epoch 29/50\n",
      "60000/60000 [==============================] - 4s 72us/step - loss: 0.1097 - val_loss: 0.1074\n",
      "Epoch 30/50\n",
      "60000/60000 [==============================] - 4s 70us/step - loss: 0.1083 - val_loss: 0.1061\n",
      "Epoch 31/50\n",
      "60000/60000 [==============================] - 4s 60us/step - loss: 0.1070 - val_loss: 0.1049\n",
      "Epoch 32/50\n",
      "60000/60000 [==============================] - 3s 53us/step - loss: 0.1058 - val_loss: 0.1037\n",
      "Epoch 33/50\n",
      "60000/60000 [==============================] - 4s 60us/step - loss: 0.1047 - val_loss: 0.1026\n",
      "Epoch 34/50\n",
      "60000/60000 [==============================] - 4s 74us/step - loss: 0.1036 - val_loss: 0.1016\n",
      "Epoch 35/50\n",
      "60000/60000 [==============================] - 5s 78us/step - loss: 0.1026 - val_loss: 0.1007\n",
      "Epoch 36/50\n",
      "60000/60000 [==============================] - 4s 73us/step - loss: 0.1017 - val_loss: 0.0998\n",
      "Epoch 37/50\n",
      "60000/60000 [==============================] - 4s 72us/step - loss: 0.1008 - val_loss: 0.0989\n",
      "Epoch 38/50\n",
      "60000/60000 [==============================] - 4s 69us/step - loss: 0.1000 - val_loss: 0.0981\n",
      "Epoch 39/50\n",
      "60000/60000 [==============================] - 4s 73us/step - loss: 0.0992 - val_loss: 0.0974\n",
      "Epoch 40/50\n",
      "60000/60000 [==============================] - 4s 69us/step - loss: 0.0984 - val_loss: 0.0967\n",
      "Epoch 41/50\n",
      "60000/60000 [==============================] - 4s 63us/step - loss: 0.0977 - val_loss: 0.0960\n",
      "Epoch 42/50\n",
      "60000/60000 [==============================] - 4s 66us/step - loss: 0.0971 - val_loss: 0.0954\n",
      "Epoch 43/50\n",
      "60000/60000 [==============================] - 4s 71us/step - loss: 0.0965 - val_loss: 0.0948\n",
      "Epoch 44/50\n",
      "60000/60000 [==============================] - 4s 74us/step - loss: 0.0959 - val_loss: 0.0942\n",
      "Epoch 45/50\n",
      "60000/60000 [==============================] - 4s 71us/step - loss: 0.0953 - val_loss: 0.0936\n",
      "Epoch 46/50\n",
      "60000/60000 [==============================] - 6s 93us/step - loss: 0.0948 - val_loss: 0.0931\n",
      "Epoch 47/50\n",
      "60000/60000 [==============================] - 4s 75us/step - loss: 0.0942 - val_loss: 0.0926\n",
      "Epoch 48/50\n",
      "60000/60000 [==============================] - 3s 56us/step - loss: 0.0938 - val_loss: 0.0922\n",
      "Epoch 49/50\n",
      "60000/60000 [==============================] - 3s 57us/step - loss: 0.0933 - val_loss: 0.0917\n",
      "Epoch 50/50\n",
      "60000/60000 [==============================] - 4s 71us/step - loss: 0.0929 - val_loss: 0.0913\n"
     ]
    },
    {
     "data": {
      "text/plain": [
       "<keras.callbacks.History at 0x13abaf1e240>"
      ]
     },
     "execution_count": 18,
     "metadata": {},
     "output_type": "execute_result"
    }
   ],
   "source": [
    "autoencoder.fit(x_train, x_train,\n",
    "                epochs=50,\n",
    "                batch_size=256,\n",
    "                shuffle=True,\n",
    "                validation_data=(x_test, x_test))"
   ]
  },
  {
   "cell_type": "code",
   "execution_count": 19,
   "metadata": {},
   "outputs": [],
   "source": [
    "# encode and decode some digits\n",
    "# note that we take them from the *test* set\n",
    "encoded_imgs = encoder.predict(x_test)\n",
    "decoded_imgs = decoder.predict(encoded_imgs)"
   ]
  },
  {
   "cell_type": "code",
   "execution_count": 20,
   "metadata": {},
   "outputs": [
    {
     "data": {
      "image/png": "[encoded data removed]",
      "text/plain": [
       "<Figure size 1440x288 with 20 Axes>"
      ]
     },
     "metadata": {
      "needs_background": "light"
     },
     "output_type": "display_data"
    }
   ],
   "source": [
    "\n",
    "n = 10  # how many digits we will display\n",
    "plt.figure(figsize=(20, 4))\n",
    "for i in range(n):\n",
    "    # display original\n",
    "    ax = plt.subplot(2, n, i + 1)\n",
    "    plt.imshow(x_test[i].reshape(28, 28))\n",
    "    plt.gray()\n",
    "    ax.get_xaxis().set_visible(False)\n",
    "    ax.get_yaxis().set_visible(False)\n",
    "\n",
    "    # display reconstruction\n",
    "    ax = plt.subplot(2, n, i + 1 + n)\n",
    "    plt.imshow(decoded_imgs[i].reshape(28, 28))\n",
    "    plt.gray()\n",
    "    ax.get_xaxis().set_visible(False)\n",
    "    ax.get_yaxis().set_visible(False)\n",
    "plt.show()"
   ]
  },
  {
   "cell_type": "code",
   "execution_count": null,
   "metadata": {},
   "outputs": [],
   "source": []
  }
 ],
 "metadata": {
  "kernelspec": {
   "display_name": "Python 3",
   "language": "python",
   "name": "python3"
  },
  "language_info": {
   "codemirror_mode": {
    "name": "ipython",
    "version": 3
   },
   "file_extension": ".py",
   "mimetype": "text/x-python",
   "name": "python",
   "nbconvert_exporter": "python",
   "pygments_lexer": "ipython3",
   "version": "3.7.1"
  }
 },
 "nbformat": 4,
 "nbformat_minor": 2
}
